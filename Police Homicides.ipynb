{
 "cells": [
  {
   "cell_type": "markdown",
   "metadata": {},
   "source": [
    "# Police Homicide Demographics\n",
    "\n"
   ]
  },
  {
   "cell_type": "markdown",
   "metadata": {},
   "source": [
    "This notebook will walk you through the process of connecting block-level demographic data to the Guardian's Counted database.  The Counted is a project initiated by The Guardian attempting to count the number of people killed by police in the United States."
   ]
  },
  {
   "cell_type": "markdown",
   "metadata": {},
   "source": [
    "We'll start by downloading the Guardian database to our local folder and unzipping it."
   ]
  },
  {
   "cell_type": "code",
   "execution_count": 2,
   "metadata": {
    "collapsed": true
   },
   "outputs": [],
   "source": [
    "import urllib.request as urllib # We'll need this to download the file...\n",
    "import zipfile as zf # And this to unzip it.\n",
    "\n",
    "counted_data = urllib.urlretrieve(\"https://interactive.guim.co.uk/2015/the-counted/thecounted-data.zip\", \"counted/thecounted-data.zip\")\n",
    "zip_ref = zf.ZipFile(\"counted/thecounted-data.zip\", 'r')\n",
    "zip_ref.extractall(path = 'counted')\n",
    "zip_ref.close()"
   ]
  },
  {
   "cell_type": "markdown",
   "metadata": {},
   "source": [
    "Now that we've got the data, let's convert it to a Pandas dataframe and take a look."
   ]
  },
  {
   "cell_type": "code",
   "execution_count": 3,
   "metadata": {
    "collapsed": false
   },
   "outputs": [
    {
     "data": {
      "text/html": [
       "<div style=\"max-height:1000px;max-width:1500px;overflow:auto;\">\n",
       "<table border=\"1\" class=\"dataframe\">\n",
       "  <thead>\n",
       "    <tr style=\"text-align: right;\">\n",
       "      <th></th>\n",
       "      <th>uid</th>\n",
       "      <th>name</th>\n",
       "      <th>age</th>\n",
       "      <th>gender</th>\n",
       "      <th>raceethnicity</th>\n",
       "      <th>month</th>\n",
       "      <th>day</th>\n",
       "      <th>year</th>\n",
       "      <th>streetaddress</th>\n",
       "      <th>city</th>\n",
       "      <th>state</th>\n",
       "      <th>classification</th>\n",
       "      <th>lawenforcementagency</th>\n",
       "      <th>armed</th>\n",
       "    </tr>\n",
       "  </thead>\n",
       "  <tbody>\n",
       "    <tr>\n",
       "      <th>0</th>\n",
       "      <td> 2</td>\n",
       "      <td>   Matthew Ajibade</td>\n",
       "      <td> 22</td>\n",
       "      <td> Male</td>\n",
       "      <td>                  Black</td>\n",
       "      <td> January</td>\n",
       "      <td> 1</td>\n",
       "      <td> 2015</td>\n",
       "      <td> 1050 Carl Griffin Dr</td>\n",
       "      <td>  Savannah</td>\n",
       "      <td> GA</td>\n",
       "      <td>  Death in custody</td>\n",
       "      <td>    Chatham County Sheriff's Office</td>\n",
       "      <td>      No</td>\n",
       "    </tr>\n",
       "    <tr>\n",
       "      <th>1</th>\n",
       "      <td> 4</td>\n",
       "      <td>      Lewis Lembke</td>\n",
       "      <td> 47</td>\n",
       "      <td> Male</td>\n",
       "      <td>                  White</td>\n",
       "      <td> January</td>\n",
       "      <td> 2</td>\n",
       "      <td> 2015</td>\n",
       "      <td> 4505 SW Masters Loop</td>\n",
       "      <td>     Aloha</td>\n",
       "      <td> OR</td>\n",
       "      <td>           Gunshot</td>\n",
       "      <td> Washington County Sheriff's Office</td>\n",
       "      <td> Firearm</td>\n",
       "    </tr>\n",
       "    <tr>\n",
       "      <th>2</th>\n",
       "      <td> 7</td>\n",
       "      <td>       Tim Elliott</td>\n",
       "      <td> 53</td>\n",
       "      <td> Male</td>\n",
       "      <td> Asian/Pacific Islander</td>\n",
       "      <td> January</td>\n",
       "      <td> 2</td>\n",
       "      <td> 2015</td>\n",
       "      <td> 600 E Island Lake Dr</td>\n",
       "      <td>   Shelton</td>\n",
       "      <td> WA</td>\n",
       "      <td>           Gunshot</td>\n",
       "      <td>      Mason County Sheriff's Office</td>\n",
       "      <td> Firearm</td>\n",
       "    </tr>\n",
       "    <tr>\n",
       "      <th>3</th>\n",
       "      <td> 5</td>\n",
       "      <td> Michael Kocher Jr</td>\n",
       "      <td> 19</td>\n",
       "      <td> Male</td>\n",
       "      <td>                  White</td>\n",
       "      <td> January</td>\n",
       "      <td> 3</td>\n",
       "      <td> 2015</td>\n",
       "      <td>   2600 Kaumualii Hwy</td>\n",
       "      <td> Kaumakani</td>\n",
       "      <td> HI</td>\n",
       "      <td> Struck by vehicle</td>\n",
       "      <td>            Kauai Police Department</td>\n",
       "      <td>      No</td>\n",
       "    </tr>\n",
       "    <tr>\n",
       "      <th>4</th>\n",
       "      <td> 6</td>\n",
       "      <td>     John Quintero</td>\n",
       "      <td> 23</td>\n",
       "      <td> Male</td>\n",
       "      <td>        Hispanic/Latino</td>\n",
       "      <td> January</td>\n",
       "      <td> 3</td>\n",
       "      <td> 2015</td>\n",
       "      <td> 500 North Oliver Ave</td>\n",
       "      <td>   Wichita</td>\n",
       "      <td> KS</td>\n",
       "      <td>           Gunshot</td>\n",
       "      <td>          Wichita Police Department</td>\n",
       "      <td>      No</td>\n",
       "    </tr>\n",
       "  </tbody>\n",
       "</table>\n",
       "</div>"
      ],
      "text/plain": [
       "   uid               name age gender           raceethnicity    month  day  \\\n",
       "0    2    Matthew Ajibade  22   Male                   Black  January    1   \n",
       "1    4       Lewis Lembke  47   Male                   White  January    2   \n",
       "2    7        Tim Elliott  53   Male  Asian/Pacific Islander  January    2   \n",
       "3    5  Michael Kocher Jr  19   Male                   White  January    3   \n",
       "4    6      John Quintero  23   Male         Hispanic/Latino  January    3   \n",
       "\n",
       "   year         streetaddress       city state     classification  \\\n",
       "0  2015  1050 Carl Griffin Dr   Savannah    GA   Death in custody   \n",
       "1  2015  4505 SW Masters Loop      Aloha    OR            Gunshot   \n",
       "2  2015  600 E Island Lake Dr    Shelton    WA            Gunshot   \n",
       "3  2015    2600 Kaumualii Hwy  Kaumakani    HI  Struck by vehicle   \n",
       "4  2015  500 North Oliver Ave    Wichita    KS            Gunshot   \n",
       "\n",
       "                 lawenforcementagency    armed  \n",
       "0     Chatham County Sheriff's Office       No  \n",
       "1  Washington County Sheriff's Office  Firearm  \n",
       "2       Mason County Sheriff's Office  Firearm  \n",
       "3             Kauai Police Department       No  \n",
       "4           Wichita Police Department       No  "
      ]
     },
     "execution_count": 3,
     "metadata": {},
     "output_type": "execute_result"
    }
   ],
   "source": [
    "import pandas as pd\n",
    "\n",
    "counted = pd.read_csv('counted/the-counted.csv') #Guardian's The Counted Database\n",
    "\n",
    "counted.head()"
   ]
  },
  {
   "cell_type": "markdown",
   "metadata": {},
   "source": [
    "Great.  We've got the core data and it looks like everything imported just fine.  Since we'll need geographic coordinates to eventually get our demographic data, we'll need to first convert our addresses to those."
   ]
  },
  {
   "cell_type": "code",
   "execution_count": 4,
   "metadata": {
    "collapsed": true
   },
   "outputs": [],
   "source": [
    "from pygeocoder import Geocoder\n",
    "\n",
    "counted['fulladdress'] = counted['streetaddress'] + ', ' + counted['city'] + ' ' + counted['state']\n",
    "# We could have done this within the function but we may as well concat our address variables now."
   ]
  },
  {
   "cell_type": "code",
   "execution_count": 5,
   "metadata": {
    "collapsed": true
   },
   "outputs": [],
   "source": [
    "apikey = '12345'\n",
    "\n",
    "def geo(address):\n",
    "    geocoder = Geocoder(api_key = apikey)\n",
    "    try:\n",
    "        location = Geocoder.geocode(address)\n",
    "        coords = [location.latitude,location.longitude]\n",
    "        if location.valid_address:\n",
    "            return coords, 'success'\n",
    "        else:\n",
    "            #print('1st pass: Invalid address: ' + address)\n",
    "            return coords,'invalid address'\n",
    "    except:\n",
    "        #print('2nd pass: This one didn\\'t work: ' + address)\n",
    "        return [0.0,0.0], 'failure'"
   ]
  },
  {
   "cell_type": "markdown",
   "metadata": {},
   "source": [
    "Now let's apply it to our data."
   ]
  },
  {
   "cell_type": "code",
   "execution_count": 6,
   "metadata": {
    "collapsed": false
   },
   "outputs": [],
   "source": [
    "output = counted['fulladdress'].apply(geo)"
   ]
  },
  {
   "cell_type": "markdown",
   "metadata": {},
   "source": [
    "Some entries are missing addresses, some have incomplete addresses (i.e. 'Main St.' or 'Jesse St and Mateo St'), and some fail for other reasons.  At some point we'll need to do some work to clean these up, but for now the vast majority work.  Also note that while we'll receive an 'invalid address' response on some of the intersection based addresses, Google actually returns coordinates on most of those and a cursory glance in Google maps shows that it's usually spot on, though in the case of intersections we might be getting the wrong corner for our block statistics.  Figure out how to deal with this later.\n",
    "\n",
    "Let's add the coordinates and the results to our dataframe."
   ]
  },
  {
   "cell_type": "code",
   "execution_count": 8,
   "metadata": {
    "collapsed": true
   },
   "outputs": [],
   "source": [
    "counted['coordinates'] = [x[0] for x in output]\n",
    "counted['result'] = [x[1] for x in output]"
   ]
  },
  {
   "cell_type": "markdown",
   "metadata": {},
   "source": [
    "Let's check out the data again."
   ]
  },
  {
   "cell_type": "code",
   "execution_count": 8,
   "metadata": {
    "collapsed": false
   },
   "outputs": [
    {
     "data": {
      "text/html": [
       "<div style=\"max-height:1000px;max-width:1500px;overflow:auto;\">\n",
       "<table border=\"1\" class=\"dataframe\">\n",
       "  <thead>\n",
       "    <tr style=\"text-align: right;\">\n",
       "      <th></th>\n",
       "      <th>uid</th>\n",
       "      <th>name</th>\n",
       "      <th>age</th>\n",
       "      <th>gender</th>\n",
       "      <th>raceethnicity</th>\n",
       "      <th>month</th>\n",
       "      <th>day</th>\n",
       "      <th>year</th>\n",
       "      <th>streetaddress</th>\n",
       "      <th>city</th>\n",
       "      <th>state</th>\n",
       "      <th>classification</th>\n",
       "      <th>lawenforcementagency</th>\n",
       "      <th>armed</th>\n",
       "      <th>fulladdress</th>\n",
       "      <th>coordinates</th>\n",
       "      <th>result</th>\n",
       "    </tr>\n",
       "  </thead>\n",
       "  <tbody>\n",
       "    <tr>\n",
       "      <th>0</th>\n",
       "      <td> 2</td>\n",
       "      <td>   Matthew Ajibade</td>\n",
       "      <td> 22</td>\n",
       "      <td> Male</td>\n",
       "      <td>                  Black</td>\n",
       "      <td> January</td>\n",
       "      <td> 1</td>\n",
       "      <td> 2015</td>\n",
       "      <td> 1050 Carl Griffin Dr</td>\n",
       "      <td>  Savannah</td>\n",
       "      <td> GA</td>\n",
       "      <td>  Death in custody</td>\n",
       "      <td>    Chatham County Sheriff's Office</td>\n",
       "      <td>      No</td>\n",
       "      <td> 1050 Carl Griffin Dr, Savannah GA</td>\n",
       "      <td>    [32.066691, -81.167881]</td>\n",
       "      <td>         success</td>\n",
       "    </tr>\n",
       "    <tr>\n",
       "      <th>1</th>\n",
       "      <td> 4</td>\n",
       "      <td>      Lewis Lembke</td>\n",
       "      <td> 47</td>\n",
       "      <td> Male</td>\n",
       "      <td>                  White</td>\n",
       "      <td> January</td>\n",
       "      <td> 2</td>\n",
       "      <td> 2015</td>\n",
       "      <td> 4505 SW Masters Loop</td>\n",
       "      <td>     Aloha</td>\n",
       "      <td> OR</td>\n",
       "      <td>           Gunshot</td>\n",
       "      <td> Washington County Sheriff's Office</td>\n",
       "      <td> Firearm</td>\n",
       "      <td>    4505 SW Masters Loop, Aloha OR</td>\n",
       "      <td> [45.4864514, -122.8912564]</td>\n",
       "      <td>         success</td>\n",
       "    </tr>\n",
       "    <tr>\n",
       "      <th>2</th>\n",
       "      <td> 7</td>\n",
       "      <td>       Tim Elliott</td>\n",
       "      <td> 53</td>\n",
       "      <td> Male</td>\n",
       "      <td> Asian/Pacific Islander</td>\n",
       "      <td> January</td>\n",
       "      <td> 2</td>\n",
       "      <td> 2015</td>\n",
       "      <td> 600 E Island Lake Dr</td>\n",
       "      <td>   Shelton</td>\n",
       "      <td> WA</td>\n",
       "      <td>           Gunshot</td>\n",
       "      <td>      Mason County Sheriff's Office</td>\n",
       "      <td> Firearm</td>\n",
       "      <td>  600 E Island Lake Dr, Shelton WA</td>\n",
       "      <td>  [47.2465339, -123.119497]</td>\n",
       "      <td>         success</td>\n",
       "    </tr>\n",
       "    <tr>\n",
       "      <th>3</th>\n",
       "      <td> 5</td>\n",
       "      <td> Michael Kocher Jr</td>\n",
       "      <td> 19</td>\n",
       "      <td> Male</td>\n",
       "      <td>                  White</td>\n",
       "      <td> January</td>\n",
       "      <td> 3</td>\n",
       "      <td> 2015</td>\n",
       "      <td>   2600 Kaumualii Hwy</td>\n",
       "      <td> Kaumakani</td>\n",
       "      <td> HI</td>\n",
       "      <td> Struck by vehicle</td>\n",
       "      <td>            Kauai Police Department</td>\n",
       "      <td>      No</td>\n",
       "      <td>  2600 Kaumualii Hwy, Kaumakani HI</td>\n",
       "      <td> [21.9332907, -159.6418879]</td>\n",
       "      <td> invalid address</td>\n",
       "    </tr>\n",
       "    <tr>\n",
       "      <th>4</th>\n",
       "      <td> 6</td>\n",
       "      <td>     John Quintero</td>\n",
       "      <td> 23</td>\n",
       "      <td> Male</td>\n",
       "      <td>        Hispanic/Latino</td>\n",
       "      <td> January</td>\n",
       "      <td> 3</td>\n",
       "      <td> 2015</td>\n",
       "      <td> 500 North Oliver Ave</td>\n",
       "      <td>   Wichita</td>\n",
       "      <td> KS</td>\n",
       "      <td>           Gunshot</td>\n",
       "      <td>          Wichita Police Department</td>\n",
       "      <td>      No</td>\n",
       "      <td>  500 North Oliver Ave, Wichita KS</td>\n",
       "      <td>  [37.6938192, -97.2805298]</td>\n",
       "      <td>         success</td>\n",
       "    </tr>\n",
       "  </tbody>\n",
       "</table>\n",
       "</div>"
      ],
      "text/plain": [
       "   uid               name age gender           raceethnicity    month  day  \\\n",
       "0    2    Matthew Ajibade  22   Male                   Black  January    1   \n",
       "1    4       Lewis Lembke  47   Male                   White  January    2   \n",
       "2    7        Tim Elliott  53   Male  Asian/Pacific Islander  January    2   \n",
       "3    5  Michael Kocher Jr  19   Male                   White  January    3   \n",
       "4    6      John Quintero  23   Male         Hispanic/Latino  January    3   \n",
       "\n",
       "   year         streetaddress       city state     classification  \\\n",
       "0  2015  1050 Carl Griffin Dr   Savannah    GA   Death in custody   \n",
       "1  2015  4505 SW Masters Loop      Aloha    OR            Gunshot   \n",
       "2  2015  600 E Island Lake Dr    Shelton    WA            Gunshot   \n",
       "3  2015    2600 Kaumualii Hwy  Kaumakani    HI  Struck by vehicle   \n",
       "4  2015  500 North Oliver Ave    Wichita    KS            Gunshot   \n",
       "\n",
       "                 lawenforcementagency    armed  \\\n",
       "0     Chatham County Sheriff's Office       No   \n",
       "1  Washington County Sheriff's Office  Firearm   \n",
       "2       Mason County Sheriff's Office  Firearm   \n",
       "3             Kauai Police Department       No   \n",
       "4           Wichita Police Department       No   \n",
       "\n",
       "                         fulladdress                 coordinates  \\\n",
       "0  1050 Carl Griffin Dr, Savannah GA     [32.066691, -81.167881]   \n",
       "1     4505 SW Masters Loop, Aloha OR  [45.4864514, -122.8912564]   \n",
       "2   600 E Island Lake Dr, Shelton WA   [47.2465339, -123.119497]   \n",
       "3   2600 Kaumualii Hwy, Kaumakani HI  [21.9332907, -159.6418879]   \n",
       "4   500 North Oliver Ave, Wichita KS   [37.6938192, -97.2805298]   \n",
       "\n",
       "            result  \n",
       "0          success  \n",
       "1          success  \n",
       "2          success  \n",
       "3  invalid address  \n",
       "4          success  "
      ]
     },
     "execution_count": 8,
     "metadata": {},
     "output_type": "execute_result"
    }
   ],
   "source": [
    "counted.head()"
   ]
  },
  {
   "cell_type": "code",
   "execution_count": 12,
   "metadata": {
    "collapsed": true
   },
   "outputs": [],
   "source": [
    "counted.to_csv('CSVs/police_homicide_gps.csv')"
   ]
  },
  {
   "cell_type": "markdown",
   "metadata": {},
   "source": [
    "Now that we have our coordinates, we'll want to translate those coordinates to census block numbers.  Luckily, the FCC has an API."
   ]
  },
  {
   "cell_type": "code",
   "execution_count": 13,
   "metadata": {
    "collapsed": true
   },
   "outputs": [],
   "source": [
    "import requests\n",
    "from bs4 import BeautifulSoup\n",
    "\n",
    "def fccblockfetch(coords): #Grab block numbers from the FCC\n",
    "    if coords != [0.0,0.0]:\n",
    "        url = 'http://data.fcc.gov/api/block/2010/find'\n",
    "        params = {'latitude': str(coords[0]), 'longitude': str(coords[1]), 'censusYear': 2010, 'showall': 'false'}\n",
    "        response = requests.get(url, params = params) #Get XML\n",
    "        parsed = BeautifulSoup(response.content) #Parse XML\n",
    "        try:\n",
    "            blockFIPS = parsed.block['fips']\n",
    "        except:\n",
    "            blockFIPS = '000000000000000'\n",
    "        #print(blockFIPS)\n",
    "        return blockFIPS\n",
    "    else:\n",
    "        return '000000000000000'"
   ]
  },
  {
   "cell_type": "code",
   "execution_count": 14,
   "metadata": {
    "collapsed": false
   },
   "outputs": [],
   "source": [
    "counted['blockFIPS'] = counted['coordinates'].apply(fccblockfetch)"
   ]
  },
  {
   "cell_type": "markdown",
   "metadata": {},
   "source": [
    "Let's check our data out again."
   ]
  },
  {
   "cell_type": "code",
   "execution_count": 15,
   "metadata": {
    "collapsed": false
   },
   "outputs": [
    {
     "data": {
      "text/html": [
       "<div style=\"max-height:1000px;max-width:1500px;overflow:auto;\">\n",
       "<table border=\"1\" class=\"dataframe\">\n",
       "  <thead>\n",
       "    <tr style=\"text-align: right;\">\n",
       "      <th></th>\n",
       "      <th>uid</th>\n",
       "      <th>name</th>\n",
       "      <th>age</th>\n",
       "      <th>gender</th>\n",
       "      <th>raceethnicity</th>\n",
       "      <th>month</th>\n",
       "      <th>day</th>\n",
       "      <th>year</th>\n",
       "      <th>streetaddress</th>\n",
       "      <th>city</th>\n",
       "      <th>state</th>\n",
       "      <th>classification</th>\n",
       "      <th>lawenforcementagency</th>\n",
       "      <th>armed</th>\n",
       "      <th>fulladdress</th>\n",
       "      <th>coordinates</th>\n",
       "      <th>result</th>\n",
       "      <th>blockFIPS</th>\n",
       "    </tr>\n",
       "  </thead>\n",
       "  <tbody>\n",
       "    <tr>\n",
       "      <th>0</th>\n",
       "      <td> 2</td>\n",
       "      <td>   Matthew Ajibade</td>\n",
       "      <td> 22</td>\n",
       "      <td> Male</td>\n",
       "      <td>                  Black</td>\n",
       "      <td> January</td>\n",
       "      <td> 1</td>\n",
       "      <td> 2015</td>\n",
       "      <td> 1050 Carl Griffin Dr</td>\n",
       "      <td>  Savannah</td>\n",
       "      <td> GA</td>\n",
       "      <td>  Death in custody</td>\n",
       "      <td>    Chatham County Sheriff's Office</td>\n",
       "      <td>      No</td>\n",
       "      <td> 1050 Carl Griffin Dr, Savannah GA</td>\n",
       "      <td>    [32.066691, -81.167881]</td>\n",
       "      <td>         success</td>\n",
       "      <td> 130510105013018</td>\n",
       "    </tr>\n",
       "    <tr>\n",
       "      <th>1</th>\n",
       "      <td> 4</td>\n",
       "      <td>      Lewis Lembke</td>\n",
       "      <td> 47</td>\n",
       "      <td> Male</td>\n",
       "      <td>                  White</td>\n",
       "      <td> January</td>\n",
       "      <td> 2</td>\n",
       "      <td> 2015</td>\n",
       "      <td> 4505 SW Masters Loop</td>\n",
       "      <td>     Aloha</td>\n",
       "      <td> OR</td>\n",
       "      <td>           Gunshot</td>\n",
       "      <td> Washington County Sheriff's Office</td>\n",
       "      <td> Firearm</td>\n",
       "      <td>    4505 SW Masters Loop, Aloha OR</td>\n",
       "      <td> [45.4864514, -122.8912564]</td>\n",
       "      <td>         success</td>\n",
       "      <td> 410670317033016</td>\n",
       "    </tr>\n",
       "    <tr>\n",
       "      <th>2</th>\n",
       "      <td> 7</td>\n",
       "      <td>       Tim Elliott</td>\n",
       "      <td> 53</td>\n",
       "      <td> Male</td>\n",
       "      <td> Asian/Pacific Islander</td>\n",
       "      <td> January</td>\n",
       "      <td> 2</td>\n",
       "      <td> 2015</td>\n",
       "      <td> 600 E Island Lake Dr</td>\n",
       "      <td>   Shelton</td>\n",
       "      <td> WA</td>\n",
       "      <td>           Gunshot</td>\n",
       "      <td>      Mason County Sheriff's Office</td>\n",
       "      <td> Firearm</td>\n",
       "      <td>  600 E Island Lake Dr, Shelton WA</td>\n",
       "      <td>  [47.2465339, -123.119497]</td>\n",
       "      <td>         success</td>\n",
       "      <td> 530459606002032</td>\n",
       "    </tr>\n",
       "    <tr>\n",
       "      <th>3</th>\n",
       "      <td> 5</td>\n",
       "      <td> Michael Kocher Jr</td>\n",
       "      <td> 19</td>\n",
       "      <td> Male</td>\n",
       "      <td>                  White</td>\n",
       "      <td> January</td>\n",
       "      <td> 3</td>\n",
       "      <td> 2015</td>\n",
       "      <td>   2600 Kaumualii Hwy</td>\n",
       "      <td> Kaumakani</td>\n",
       "      <td> HI</td>\n",
       "      <td> Struck by vehicle</td>\n",
       "      <td>            Kauai Police Department</td>\n",
       "      <td>      No</td>\n",
       "      <td>  2600 Kaumualii Hwy, Kaumakani HI</td>\n",
       "      <td> [21.9332907, -159.6418879]</td>\n",
       "      <td> invalid address</td>\n",
       "      <td> 150070408001141</td>\n",
       "    </tr>\n",
       "    <tr>\n",
       "      <th>4</th>\n",
       "      <td> 6</td>\n",
       "      <td>     John Quintero</td>\n",
       "      <td> 23</td>\n",
       "      <td> Male</td>\n",
       "      <td>        Hispanic/Latino</td>\n",
       "      <td> January</td>\n",
       "      <td> 3</td>\n",
       "      <td> 2015</td>\n",
       "      <td> 500 North Oliver Ave</td>\n",
       "      <td>   Wichita</td>\n",
       "      <td> KS</td>\n",
       "      <td>           Gunshot</td>\n",
       "      <td>          Wichita Police Department</td>\n",
       "      <td>      No</td>\n",
       "      <td>  500 North Oliver Ave, Wichita KS</td>\n",
       "      <td>  [37.6938192, -97.2805298]</td>\n",
       "      <td>         success</td>\n",
       "      <td> 201730010004007</td>\n",
       "    </tr>\n",
       "  </tbody>\n",
       "</table>\n",
       "</div>"
      ],
      "text/plain": [
       "   uid               name age gender           raceethnicity    month  day  \\\n",
       "0    2    Matthew Ajibade  22   Male                   Black  January    1   \n",
       "1    4       Lewis Lembke  47   Male                   White  January    2   \n",
       "2    7        Tim Elliott  53   Male  Asian/Pacific Islander  January    2   \n",
       "3    5  Michael Kocher Jr  19   Male                   White  January    3   \n",
       "4    6      John Quintero  23   Male         Hispanic/Latino  January    3   \n",
       "\n",
       "   year         streetaddress       city state     classification  \\\n",
       "0  2015  1050 Carl Griffin Dr   Savannah    GA   Death in custody   \n",
       "1  2015  4505 SW Masters Loop      Aloha    OR            Gunshot   \n",
       "2  2015  600 E Island Lake Dr    Shelton    WA            Gunshot   \n",
       "3  2015    2600 Kaumualii Hwy  Kaumakani    HI  Struck by vehicle   \n",
       "4  2015  500 North Oliver Ave    Wichita    KS            Gunshot   \n",
       "\n",
       "                 lawenforcementagency    armed  \\\n",
       "0     Chatham County Sheriff's Office       No   \n",
       "1  Washington County Sheriff's Office  Firearm   \n",
       "2       Mason County Sheriff's Office  Firearm   \n",
       "3             Kauai Police Department       No   \n",
       "4           Wichita Police Department       No   \n",
       "\n",
       "                         fulladdress                 coordinates  \\\n",
       "0  1050 Carl Griffin Dr, Savannah GA     [32.066691, -81.167881]   \n",
       "1     4505 SW Masters Loop, Aloha OR  [45.4864514, -122.8912564]   \n",
       "2   600 E Island Lake Dr, Shelton WA   [47.2465339, -123.119497]   \n",
       "3   2600 Kaumualii Hwy, Kaumakani HI  [21.9332907, -159.6418879]   \n",
       "4   500 North Oliver Ave, Wichita KS   [37.6938192, -97.2805298]   \n",
       "\n",
       "            result        blockFIPS  \n",
       "0          success  130510105013018  \n",
       "1          success  410670317033016  \n",
       "2          success  530459606002032  \n",
       "3  invalid address  150070408001141  \n",
       "4          success  201730010004007  "
      ]
     },
     "execution_count": 15,
     "metadata": {},
     "output_type": "execute_result"
    }
   ],
   "source": [
    "counted.head()"
   ]
  },
  {
   "cell_type": "markdown",
   "metadata": {},
   "source": [
    "Once again, looks good.  Let's save again before moving on and getting our racial demographics."
   ]
  },
  {
   "cell_type": "code",
   "execution_count": 16,
   "metadata": {
    "collapsed": false
   },
   "outputs": [],
   "source": [
    "counted.to_csv('CSVs/police_homicide_gps_blockFIPS.csv')"
   ]
  },
  {
   "cell_type": "markdown",
   "metadata": {},
   "source": [
    "Now let's get the NHGIS data and merge it into our main dataframe."
   ]
  },
  {
   "cell_type": "code",
   "execution_count": 18,
   "metadata": {
    "collapsed": false
   },
   "outputs": [],
   "source": [
    "import sqlite3 as lite\n",
    "\n",
    "con = lite.connect('census blocks/nhgis.db') # database connection\n",
    "\n",
    "FIPSdata = counted['blockFIPS'].unique() # We have duplicate empty blocks, let's not recalculate them.\n",
    "\n",
    "columns = ['total', 'white', 'black', 'indian', 'asian', 'islander', 'other']\n",
    "\n",
    "FIPSappend = pd.DataFrame(columns = columns) # set up an empty dataframe to store our SQL query data\n",
    "\n",
    "for FIPS in FIPSdata: #Grab race data from SQL\n",
    "    if FIPS:\n",
    "        racedata = pd.read_sql_query('SELECT total, white, black, indian, asian, islander, other FROM race WHERE statecode = ' + FIPS[0:2] + ' AND countycode = ' + FIPS[2:5] + ' AND tracta = ' + FIPS[5:11] + ' AND blocka = ' + FIPS[11:15], con, coerce_float = False)\n",
    "        racedata['blockFIPS'] = FIPS\n",
    "        #print(racedata)\n",
    "        FIPSappend = FIPSappend.append(racedata)\n",
    "    else:\n",
    "        print('error')\n",
    "\n",
    "con.close()"
   ]
  },
  {
   "cell_type": "markdown",
   "metadata": {},
   "source": [
    "Merge everything back in."
   ]
  },
  {
   "cell_type": "code",
   "execution_count": 19,
   "metadata": {
    "collapsed": true
   },
   "outputs": [],
   "source": [
    "counted = pd.merge(counted, FIPSappend, how = 'outer', left_on = 'blockFIPS', right_on = 'blockFIPS') #merge race data back in"
   ]
  },
  {
   "cell_type": "markdown",
   "metadata": {},
   "source": [
    "And save."
   ]
  },
  {
   "cell_type": "code",
   "execution_count": 23,
   "metadata": {
    "collapsed": false
   },
   "outputs": [],
   "source": [
    "counted.to_csv('CSVs/police_homicide_racedata.csv')"
   ]
  },
  {
   "cell_type": "markdown",
   "metadata": {},
   "source": [
    "Some quick visualizations on the base data."
   ]
  },
  {
   "cell_type": "code",
   "execution_count": 6,
   "metadata": {
    "collapsed": true
   },
   "outputs": [],
   "source": [
    "import matplotlib.pyplot as plt\n",
    "import matplotlib as mpl\n",
    "import seaborn as sns\n",
    "import pandas as pd\n",
    "%matplotlib inline"
   ]
  },
  {
   "cell_type": "code",
   "execution_count": 7,
   "metadata": {
    "collapsed": false
   },
   "outputs": [
    {
     "data": {
      "image/png": "[encoded data removed]",
      "text/plain": [
       "<matplotlib.figure.Figure at 0x4eb8e30>"
      ]
     },
     "metadata": {},
     "output_type": "display_data"
    }
   ],
   "source": [
    "partdata = pd.read_csv('CSVs/police_homicide_racedata.csv', encoding = \"ISO-8859-1\")\n",
    "\n",
    "#Stacked bar chart\n",
    "\n",
    "#Let's only keep the three most populated categories of raceethnicity\n",
    "partdata.loc[(partdata['raceethnicity'] == 'Asian/Pacific Islander') | (partdata['raceethnicity'] == 'Native American') | (partdata['raceethnicity'] == 'Unknown') | (partdata['raceethnicity'] == 'Arab-American'), 'raceethnicity'] = 'Other'\n",
    "\n",
    "unarmeddata = partdata[partdata['armed'] == 'No']\n",
    "\n",
    "figs, ax = plt.subplots(facecolor = 'white')\n",
    "\n",
    "width = .6\n",
    "\n",
    "rects1 = ax.bar(range(len(partdata['raceethnicity'].value_counts())), partdata['raceethnicity'].value_counts(), width, align = 'center', color = 'darksage')\n",
    "rects2 = ax.bar(range(len(unarmeddata['raceethnicity'].value_counts())), unarmeddata['raceethnicity'].value_counts(), width, align = 'center', color = 'darkslategray')\n",
    "plt.xticks(range(len(partdata['raceethnicity'].value_counts())), partdata['raceethnicity'].value_counts().keys())\n",
    "\n",
    "ax.set_ylabel('Number of Homicides')\n",
    "ax.legend((rects1[0], rects2[0]), ('Victim Armed', 'Victim Unarmed'), frameon = False, bbox_to_anchor = (0., .75, 1., .102))\n",
    "ax.spines['right'].set_visible(False)\n",
    "ax.spines['top'].set_visible(False)\n",
    "#ax.spines['bottom'].set_visible(False)\n",
    "ax.xaxis.set_ticks_position('none')\n",
    "ax.yaxis.set_ticks_position('left')\n",
    "ax.set_yticks([])\n",
    "\n",
    "sns.set_style('white')\n",
    "\n",
    "total_heights = [x.get_height() for x in rects1]\n",
    "\n",
    "def autolabel(rects):\n",
    "\ti = 0\n",
    "\tfor rect in rects:\n",
    "\t\theight = rect.get_height()\n",
    "\t\tax.text(rect.get_x() + rect.get_width()/2., 1.05 * height, str(round((int(height) / int(total_heights[i])) * 100, 2)) + '%', ha = 'center', va = 'bottom', fontsize = 10)\n",
    "\t\tax.text(rect.get_x() + rect.get_width()/2., total_heights[i], total_heights[i], ha = 'center', va = 'bottom', fontsize = 10)\n",
    "\t\ti += 1\n",
    "\n",
    "autolabel(rects2)\n",
    "\n",
    "plt.title('Police Homicides by Race/ethnicity', y = 1.05)\n",
    "\n",
    "plt.show()"
   ]
  },
  {
   "cell_type": "markdown",
   "metadata": {},
   "source": [
    "We can see that African Americans are more a lot more likely to be unarmed when killed."
   ]
  },
  {
   "cell_type": "code",
   "execution_count": 8,
   "metadata": {
    "collapsed": false
   },
   "outputs": [
    {
     "data": {
      "image/png": "[encoded data removed]",
      "text/plain": [
       "<matplotlib.figure.Figure at 0xe071410>"
      ]
     },
     "metadata": {},
     "output_type": "display_data"
    }
   ],
   "source": [
    "# Proportion bars, homicides by race next to US Pop.\n",
    "\n",
    "fig2, ax2 = plt.subplots()\n",
    "\n",
    "width = .2\n",
    "\n",
    "race_pcts = []\n",
    "\n",
    "for i in range(0, len(partdata['raceethnicity'].value_counts())):\n",
    "\trace_pcts.append(float(partdata['raceethnicity'].value_counts()[i] / sum(partdata['raceethnicity'].value_counts())))\n",
    "\n",
    "race_pcts = [x * 100 for x in race_pcts]\n",
    "\n",
    "p1 = ax2.bar(.3, race_pcts[0], width, color = 'darksage', align = 'center')\n",
    "p2 = ax2.bar(.3, race_pcts[1], width, bottom = race_pcts[0], color = 'sage', align = 'center')\n",
    "p3 = ax2.bar(.3, race_pcts[2], width, bottom = race_pcts[0] + race_pcts[1], color = 'darkgray', align = 'center')\n",
    "p4 = ax2.bar(.3, race_pcts[3], width, bottom = race_pcts[0] + race_pcts[1] + race_pcts[2], color = 'silver', align = 'center')\n",
    "\n",
    "# from wiki; not worth scraping for a quick plot\n",
    "usrace_pcts = [63.7, 12.2, 16.4, 7.7]\n",
    "\n",
    "usp1 = ax2.bar(.6, usrace_pcts[0], width, color = 'darksage', align = 'center')\n",
    "usp2 = ax2.bar(.6, usrace_pcts[1], width, bottom = usrace_pcts[0], color = 'sage', align = 'center')\n",
    "usp3 = ax2.bar(.6, usrace_pcts[2], width, bottom = usrace_pcts[0] + usrace_pcts[1], color = 'darkgray', align = 'center')\n",
    "usp4 = ax2.bar(.6, usrace_pcts[3], width, bottom = usrace_pcts[0] + usrace_pcts[1] + usrace_pcts[2], color = 'silver', align = 'center')\n",
    "\n",
    "def racebarlabel(bars, i, offset = 0):\n",
    "\tfor bar in bars:\n",
    "\t\theight = bar.get_height()\n",
    "\t\tax2.text(bar.get_x() + bar.get_width()/2., (0.2 * height) + sum(race_pcts[0:i]) + offset, str(round(height, 1)) + '%', ha = 'center', va = 'bottom', fontsize = 10)\n",
    "\n",
    "racebarlabel(p1, 0)\n",
    "racebarlabel(p2, 1)\n",
    "racebarlabel(p3, 2)\n",
    "racebarlabel(p4, 3)\t\n",
    "\n",
    "racebarlabel(usp1, 0)\n",
    "racebarlabel(usp2, 1, 13)\n",
    "racebarlabel(usp3, 2)\n",
    "racebarlabel(usp4, 3, -2)\t\n",
    "\n",
    "plt.ylim(ymax = 100)\n",
    "ax2.legend((p4, p3, p2, p1), ('Other', 'Hispanic/Latino', 'Black', 'White'), frameon = False, bbox_to_anchor = (0.02, .8, 1.1, .102))\n",
    "plt.xticks(range(2), ['Homicide Victims', 'US Population'])\n",
    "plt.title('Police Homicide Demographics v. US Demographics', y = 1.05)\n",
    "\n",
    "sns.set_style('white')\n",
    "sns.despine()\n",
    "plt.show()"
   ]
  },
  {
   "cell_type": "markdown",
   "metadata": {},
   "source": [
    "We can also see that African Americans are killed at a higher rate proportionally to their representation in the population."
   ]
  },
  {
   "cell_type": "markdown",
   "metadata": {},
   "source": [
    "Neighborhood level analysis coming soon.\n",
    "\n",
    "To do:\n",
    "Strip out cases that may not be applicable (struck by vehicle, etc.)\n",
    "Logit on armed status"
   ]
  },
  {
   "cell_type": "code",
   "execution_count": null,
   "metadata": {
    "collapsed": true
   },
   "outputs": [],
   "source": []
  }
 ],
 "metadata": {
  "kernelspec": {
   "display_name": "Python 3",
   "language": "python",
   "name": "python3"
  },
  "language_info": {
   "codemirror_mode": {
    "name": "ipython",
    "version": 3
   },
   "file_extension": ".py",
   "mimetype": "text/x-python",
   "name": "python",
   "nbconvert_exporter": "python",
   "pygments_lexer": "ipython3",
   "version": "3.4.1"
  }
 },
 "nbformat": 4,
 "nbformat_minor": 0
}
