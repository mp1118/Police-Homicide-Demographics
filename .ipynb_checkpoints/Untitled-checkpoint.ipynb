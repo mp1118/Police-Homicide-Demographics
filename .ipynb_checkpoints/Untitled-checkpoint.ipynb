{
 "cells": [
  {
   "cell_type": "markdown",
   "metadata": {},
   "source": [
    "# Police Homicide Demographics\n",
    "\n"
   ]
  },
  {
   "cell_type": "markdown",
   "metadata": {},
   "source": [
    "This notebook will walk you through the process of connecting block-level demographic data to the Guardian's Counted database.  The Counted is a project initiated by The Guardian attempting to count the number of people killed by police in the United States."
   ]
  },
  {
   "cell_type": "markdown",
   "metadata": {},
   "source": [
    "We'll start by downloading the Guardian database to our local folder and unzipping it."
   ]
  },
  {
   "cell_type": "code",
   "execution_count": 4,
   "metadata": {
    "collapsed": true
   },
   "outputs": [],
   "source": [
    "import urllib.request as urllib # We'll need this to download the file...\n",
    "import zipfile as zf # And this to unzip it.\n",
    "\n",
    "counted_data = urllib.urlretrieve(\"https://interactive.guim.co.uk/2015/the-counted/thecounted-data.zip\", \"counted/thecounted-data.zip\")\n",
    "zip_ref = zf.ZipFile(\"counted/thecounted-data.zip\", 'r')\n",
    "zip_ref.extractall(path = 'counted')\n",
    "zip_ref.close()"
   ]
  },
  {
   "cell_type": "markdown",
   "metadata": {},
   "source": [
    "Now that we've got the data, let's convert it to a Pandas dataframe and take a look."
   ]
  },
  {
   "cell_type": "code",
   "execution_count": 8,
   "metadata": {
    "collapsed": false
   },
   "outputs": [
    {
     "data": {
      "text/html": [
       "<div style=\"max-height:1000px;max-width:1500px;overflow:auto;\">\n",
       "<table border=\"1\" class=\"dataframe\">\n",
       "  <thead>\n",
       "    <tr style=\"text-align: right;\">\n",
       "      <th></th>\n",
       "      <th>uid</th>\n",
       "      <th>name</th>\n",
       "      <th>age</th>\n",
       "      <th>gender</th>\n",
       "      <th>raceethnicity</th>\n",
       "      <th>month</th>\n",
       "      <th>day</th>\n",
       "      <th>year</th>\n",
       "      <th>streetaddress</th>\n",
       "      <th>city</th>\n",
       "      <th>state</th>\n",
       "      <th>classification</th>\n",
       "      <th>lawenforcementagency</th>\n",
       "      <th>armed</th>\n",
       "    </tr>\n",
       "  </thead>\n",
       "  <tbody>\n",
       "    <tr>\n",
       "      <th>0</th>\n",
       "      <td> 2</td>\n",
       "      <td>   Matthew Ajibade</td>\n",
       "      <td> 22</td>\n",
       "      <td> Male</td>\n",
       "      <td>                  Black</td>\n",
       "      <td> January</td>\n",
       "      <td> 1</td>\n",
       "      <td> 2015</td>\n",
       "      <td> 1050 Carl Griffin Dr</td>\n",
       "      <td>  Savannah</td>\n",
       "      <td> GA</td>\n",
       "      <td>  Death in custody</td>\n",
       "      <td>    Chatham County Sheriff's Office</td>\n",
       "      <td>      No</td>\n",
       "    </tr>\n",
       "    <tr>\n",
       "      <th>1</th>\n",
       "      <td> 4</td>\n",
       "      <td>      Lewis Lembke</td>\n",
       "      <td> 47</td>\n",
       "      <td> Male</td>\n",
       "      <td>                  White</td>\n",
       "      <td> January</td>\n",
       "      <td> 2</td>\n",
       "      <td> 2015</td>\n",
       "      <td> 4505 SW Masters Loop</td>\n",
       "      <td>     Aloha</td>\n",
       "      <td> OR</td>\n",
       "      <td>           Gunshot</td>\n",
       "      <td> Washington County Sheriff's Office</td>\n",
       "      <td> Firearm</td>\n",
       "    </tr>\n",
       "    <tr>\n",
       "      <th>2</th>\n",
       "      <td> 7</td>\n",
       "      <td>       Tim Elliott</td>\n",
       "      <td> 53</td>\n",
       "      <td> Male</td>\n",
       "      <td> Asian/Pacific Islander</td>\n",
       "      <td> January</td>\n",
       "      <td> 2</td>\n",
       "      <td> 2015</td>\n",
       "      <td> 600 E Island Lake Dr</td>\n",
       "      <td>   Shelton</td>\n",
       "      <td> WA</td>\n",
       "      <td>           Gunshot</td>\n",
       "      <td>      Mason County Sheriff's Office</td>\n",
       "      <td> Firearm</td>\n",
       "    </tr>\n",
       "    <tr>\n",
       "      <th>3</th>\n",
       "      <td> 5</td>\n",
       "      <td> Michael Kocher Jr</td>\n",
       "      <td> 19</td>\n",
       "      <td> Male</td>\n",
       "      <td>                  White</td>\n",
       "      <td> January</td>\n",
       "      <td> 3</td>\n",
       "      <td> 2015</td>\n",
       "      <td>   2600 Kaumualii Hwy</td>\n",
       "      <td> Kaumakani</td>\n",
       "      <td> HI</td>\n",
       "      <td> Struck by vehicle</td>\n",
       "      <td>            Kauai Police Department</td>\n",
       "      <td>      No</td>\n",
       "    </tr>\n",
       "    <tr>\n",
       "      <th>4</th>\n",
       "      <td> 6</td>\n",
       "      <td>     John Quintero</td>\n",
       "      <td> 23</td>\n",
       "      <td> Male</td>\n",
       "      <td>        Hispanic/Latino</td>\n",
       "      <td> January</td>\n",
       "      <td> 3</td>\n",
       "      <td> 2015</td>\n",
       "      <td> 500 North Oliver Ave</td>\n",
       "      <td>   Wichita</td>\n",
       "      <td> KS</td>\n",
       "      <td>           Gunshot</td>\n",
       "      <td>          Wichita Police Department</td>\n",
       "      <td>      No</td>\n",
       "    </tr>\n",
       "  </tbody>\n",
       "</table>\n",
       "</div>"
      ],
      "text/plain": [
       "   uid               name age gender           raceethnicity    month  day  \\\n",
       "0    2    Matthew Ajibade  22   Male                   Black  January    1   \n",
       "1    4       Lewis Lembke  47   Male                   White  January    2   \n",
       "2    7        Tim Elliott  53   Male  Asian/Pacific Islander  January    2   \n",
       "3    5  Michael Kocher Jr  19   Male                   White  January    3   \n",
       "4    6      John Quintero  23   Male         Hispanic/Latino  January    3   \n",
       "\n",
       "   year         streetaddress       city state     classification  \\\n",
       "0  2015  1050 Carl Griffin Dr   Savannah    GA   Death in custody   \n",
       "1  2015  4505 SW Masters Loop      Aloha    OR            Gunshot   \n",
       "2  2015  600 E Island Lake Dr    Shelton    WA            Gunshot   \n",
       "3  2015    2600 Kaumualii Hwy  Kaumakani    HI  Struck by vehicle   \n",
       "4  2015  500 North Oliver Ave    Wichita    KS            Gunshot   \n",
       "\n",
       "                 lawenforcementagency    armed  \n",
       "0     Chatham County Sheriff's Office       No  \n",
       "1  Washington County Sheriff's Office  Firearm  \n",
       "2       Mason County Sheriff's Office  Firearm  \n",
       "3             Kauai Police Department       No  \n",
       "4           Wichita Police Department       No  "
      ]
     },
     "execution_count": 8,
     "metadata": {},
     "output_type": "execute_result"
    }
   ],
   "source": [
    "import pandas as pd\n",
    "\n",
    "counted = pd.read_csv('counted/the-counted.csv') #Guardian's The Counted Database\n",
    "\n",
    "counted.head()"
   ]
  },
  {
   "cell_type": "markdown",
   "metadata": {},
   "source": [
    "Great.  We've got the core data and it looks like everything imported just fine.  Since we'll need geographic coordinates to eventually get our demographic data, we'll need to first convert our addresses to those.  Luckily, the Python library 'pygeocoder' will do that for us."
   ]
  },
  {
   "cell_type": "code",
   "execution_count": 11,
   "metadata": {
    "collapsed": true
   },
   "outputs": [],
   "source": [
    "from pygeocoder import Geocoder\n",
    "\n",
    "counted['fulladdress'] = counted['streetaddress'] + ', ' + counted['city'] + ' ' + counted['state']\n",
    "# We could have done this within the function but we may as well concat our address variables now."
   ]
  },
  {
   "cell_type": "markdown",
   "metadata": {},
   "source": [
    "You'll need to register with Google to get an API key for Google maps in order to convert our addresses.  For now, we'll just use a fake API key."
   ]
  },
  {
   "cell_type": "code",
   "execution_count": 19,
   "metadata": {
    "collapsed": true
   },
   "outputs": [],
   "source": [
    "apikey = '12345'\n",
    "\n",
    "def geo(address):\n",
    "    geocoder = Geocoder(api_key = apikey)\n",
    "    try:\n",
    "        location = Geocoder.geocode(address)\n",
    "        coords = [location.latitude,location.longitude]\n",
    "        if location.valid_address:\n",
    "            return coords, 'success'\n",
    "        else:\n",
    "            #print('1st pass: Invalid address: ' + address)\n",
    "            return coords,'invalid address'\n",
    "    except:\n",
    "        #print('2nd pass: This one didn\\'t work: ' + address)\n",
    "        return [0.0,0.0], 'failure'"
   ]
  },
  {
   "cell_type": "markdown",
   "metadata": {},
   "source": [
    "Now that we've created a function to calculate our addresses, we can use the pandas 'apply' function to run it on every row of our data."
   ]
  },
  {
   "cell_type": "code",
   "execution_count": 16,
   "metadata": {
    "collapsed": false
   },
   "outputs": [],
   "source": [
    "output = counted['fulladdress'].apply(geo)"
   ]
  },
  {
   "cell_type": "markdown",
   "metadata": {},
   "source": [
    "Some entries are missing addresses, some have incomplete addresses (i.e. 'Main St.' or 'Jesse St and Mateo St'), and some fail for other reasons.  At some point we'll need to do some work to clean these up, but for now the vast majority work.  Also note that while we'll receive an 'invalid address' response on some of the intersection based addresses, Google actually returns coordinates on most of those and a cursory glance in Google maps shows that it's usually spot on.\n",
    "\n",
    "Let's add the coordinates and the results to our dataframe."
   ]
  },
  {
   "cell_type": "code",
   "execution_count": 17,
   "metadata": {
    "collapsed": true
   },
   "outputs": [],
   "source": [
    "counted['coordinates'] = [x[0] for x in output]\n",
    "counted['result'] = [x[1] for x in output]"
   ]
  },
  {
   "cell_type": "markdown",
   "metadata": {},
   "source": [
    "Let's check out the data again."
   ]
  },
  {
   "cell_type": "code",
   "execution_count": 18,
   "metadata": {
    "collapsed": false
   },
   "outputs": [
    {
     "data": {
      "text/html": [
       "<div style=\"max-height:1000px;max-width:1500px;overflow:auto;\">\n",
       "<table border=\"1\" class=\"dataframe\">\n",
       "  <thead>\n",
       "    <tr style=\"text-align: right;\">\n",
       "      <th></th>\n",
       "      <th>uid</th>\n",
       "      <th>name</th>\n",
       "      <th>age</th>\n",
       "      <th>gender</th>\n",
       "      <th>raceethnicity</th>\n",
       "      <th>month</th>\n",
       "      <th>day</th>\n",
       "      <th>year</th>\n",
       "      <th>streetaddress</th>\n",
       "      <th>city</th>\n",
       "      <th>state</th>\n",
       "      <th>classification</th>\n",
       "      <th>lawenforcementagency</th>\n",
       "      <th>armed</th>\n",
       "      <th>fulladdress</th>\n",
       "      <th>coordinates</th>\n",
       "      <th>result</th>\n",
       "    </tr>\n",
       "  </thead>\n",
       "  <tbody>\n",
       "    <tr>\n",
       "      <th>0</th>\n",
       "      <td> 2</td>\n",
       "      <td>   Matthew Ajibade</td>\n",
       "      <td> 22</td>\n",
       "      <td> Male</td>\n",
       "      <td>                  Black</td>\n",
       "      <td> January</td>\n",
       "      <td> 1</td>\n",
       "      <td> 2015</td>\n",
       "      <td> 1050 Carl Griffin Dr</td>\n",
       "      <td>  Savannah</td>\n",
       "      <td> GA</td>\n",
       "      <td>  Death in custody</td>\n",
       "      <td>    Chatham County Sheriff's Office</td>\n",
       "      <td>      No</td>\n",
       "      <td> 1050 Carl Griffin Dr, Savannah GA</td>\n",
       "      <td>    [32.066691, -81.167881]</td>\n",
       "      <td>         success</td>\n",
       "    </tr>\n",
       "    <tr>\n",
       "      <th>1</th>\n",
       "      <td> 4</td>\n",
       "      <td>      Lewis Lembke</td>\n",
       "      <td> 47</td>\n",
       "      <td> Male</td>\n",
       "      <td>                  White</td>\n",
       "      <td> January</td>\n",
       "      <td> 2</td>\n",
       "      <td> 2015</td>\n",
       "      <td> 4505 SW Masters Loop</td>\n",
       "      <td>     Aloha</td>\n",
       "      <td> OR</td>\n",
       "      <td>           Gunshot</td>\n",
       "      <td> Washington County Sheriff's Office</td>\n",
       "      <td> Firearm</td>\n",
       "      <td>    4505 SW Masters Loop, Aloha OR</td>\n",
       "      <td> [45.4864514, -122.8912564]</td>\n",
       "      <td>         success</td>\n",
       "    </tr>\n",
       "    <tr>\n",
       "      <th>2</th>\n",
       "      <td> 7</td>\n",
       "      <td>       Tim Elliott</td>\n",
       "      <td> 53</td>\n",
       "      <td> Male</td>\n",
       "      <td> Asian/Pacific Islander</td>\n",
       "      <td> January</td>\n",
       "      <td> 2</td>\n",
       "      <td> 2015</td>\n",
       "      <td> 600 E Island Lake Dr</td>\n",
       "      <td>   Shelton</td>\n",
       "      <td> WA</td>\n",
       "      <td>           Gunshot</td>\n",
       "      <td>      Mason County Sheriff's Office</td>\n",
       "      <td> Firearm</td>\n",
       "      <td>  600 E Island Lake Dr, Shelton WA</td>\n",
       "      <td>  [47.2465339, -123.119497]</td>\n",
       "      <td>         success</td>\n",
       "    </tr>\n",
       "    <tr>\n",
       "      <th>3</th>\n",
       "      <td> 5</td>\n",
       "      <td> Michael Kocher Jr</td>\n",
       "      <td> 19</td>\n",
       "      <td> Male</td>\n",
       "      <td>                  White</td>\n",
       "      <td> January</td>\n",
       "      <td> 3</td>\n",
       "      <td> 2015</td>\n",
       "      <td>   2600 Kaumualii Hwy</td>\n",
       "      <td> Kaumakani</td>\n",
       "      <td> HI</td>\n",
       "      <td> Struck by vehicle</td>\n",
       "      <td>            Kauai Police Department</td>\n",
       "      <td>      No</td>\n",
       "      <td>  2600 Kaumualii Hwy, Kaumakani HI</td>\n",
       "      <td> [21.9332907, -159.6418879]</td>\n",
       "      <td> invalid address</td>\n",
       "    </tr>\n",
       "    <tr>\n",
       "      <th>4</th>\n",
       "      <td> 6</td>\n",
       "      <td>     John Quintero</td>\n",
       "      <td> 23</td>\n",
       "      <td> Male</td>\n",
       "      <td>        Hispanic/Latino</td>\n",
       "      <td> January</td>\n",
       "      <td> 3</td>\n",
       "      <td> 2015</td>\n",
       "      <td> 500 North Oliver Ave</td>\n",
       "      <td>   Wichita</td>\n",
       "      <td> KS</td>\n",
       "      <td>           Gunshot</td>\n",
       "      <td>          Wichita Police Department</td>\n",
       "      <td>      No</td>\n",
       "      <td>  500 North Oliver Ave, Wichita KS</td>\n",
       "      <td>  [37.6938192, -97.2805298]</td>\n",
       "      <td>         success</td>\n",
       "    </tr>\n",
       "  </tbody>\n",
       "</table>\n",
       "</div>"
      ],
      "text/plain": [
       "   uid               name age gender           raceethnicity    month  day  \\\n",
       "0    2    Matthew Ajibade  22   Male                   Black  January    1   \n",
       "1    4       Lewis Lembke  47   Male                   White  January    2   \n",
       "2    7        Tim Elliott  53   Male  Asian/Pacific Islander  January    2   \n",
       "3    5  Michael Kocher Jr  19   Male                   White  January    3   \n",
       "4    6      John Quintero  23   Male         Hispanic/Latino  January    3   \n",
       "\n",
       "   year         streetaddress       city state     classification  \\\n",
       "0  2015  1050 Carl Griffin Dr   Savannah    GA   Death in custody   \n",
       "1  2015  4505 SW Masters Loop      Aloha    OR            Gunshot   \n",
       "2  2015  600 E Island Lake Dr    Shelton    WA            Gunshot   \n",
       "3  2015    2600 Kaumualii Hwy  Kaumakani    HI  Struck by vehicle   \n",
       "4  2015  500 North Oliver Ave    Wichita    KS            Gunshot   \n",
       "\n",
       "                 lawenforcementagency    armed  \\\n",
       "0     Chatham County Sheriff's Office       No   \n",
       "1  Washington County Sheriff's Office  Firearm   \n",
       "2       Mason County Sheriff's Office  Firearm   \n",
       "3             Kauai Police Department       No   \n",
       "4           Wichita Police Department       No   \n",
       "\n",
       "                         fulladdress                 coordinates  \\\n",
       "0  1050 Carl Griffin Dr, Savannah GA     [32.066691, -81.167881]   \n",
       "1     4505 SW Masters Loop, Aloha OR  [45.4864514, -122.8912564]   \n",
       "2   600 E Island Lake Dr, Shelton WA   [47.2465339, -123.119497]   \n",
       "3   2600 Kaumualii Hwy, Kaumakani HI  [21.9332907, -159.6418879]   \n",
       "4   500 North Oliver Ave, Wichita KS   [37.6938192, -97.2805298]   \n",
       "\n",
       "            result  \n",
       "0          success  \n",
       "1          success  \n",
       "2          success  \n",
       "3  invalid address  \n",
       "4          success  "
      ]
     },
     "execution_count": 18,
     "metadata": {},
     "output_type": "execute_result"
    }
   ],
   "source": [
    "counted.head()"
   ]
  },
  {
   "cell_type": "markdown",
   "metadata": {},
   "source": [
    "Since everything worked, let's go ahead and save this as a .csv.  Since grabbing the coordinates takes a while, it's a good idea to go ahead and save this output so that we can pick up from here later if need be."
   ]
  },
  {
   "cell_type": "code",
   "execution_count": 22,
   "metadata": {
    "collapsed": true
   },
   "outputs": [],
   "source": [
    "counted.to_csv('CSVs/police_homicide_gps.csv')"
   ]
  },
  {
   "cell_type": "markdown",
   "metadata": {},
   "source": [
    "Now that we have our coordinates, we'll want to translate those coordinates to census block numbers.  Luckily, the FCC has an API, so we can use the python 'requests' module to easily get our data.  We'll also use BeautifulSoup to parse our XML.  There are lighter weight XML parsers available for Python, but I'm used to BeautifulSoup so that's what I've used here."
   ]
  },
  {
   "cell_type": "code",
   "execution_count": 27,
   "metadata": {
    "collapsed": true
   },
   "outputs": [],
   "source": [
    "import requests\n",
    "from bs4 import BeautifulSoup\n",
    "\n",
    "def fccblockfetch(coords): #Grab block numbers from the FCC\n",
    "    if coords != [0.0,0.0]:\n",
    "        url = 'http://data.fcc.gov/api/block/2010/find'\n",
    "        params = {'latitude': str(coords[0]), 'longitude': str(coords[1]), 'censusYear': 2010, 'showall': 'false'}\n",
    "        response = requests.get(url, params = params) #Get XML\n",
    "        parsed = BeautifulSoup(response.content) #Parse XML\n",
    "        try:\n",
    "            blockFIPS = parsed.block['fips']\n",
    "        except:\n",
    "            blockFIPS = '000000000000000'\n",
    "        #print(blockFIPS)\n",
    "        return blockFIPS\n",
    "    else:\n",
    "        return '000000000000000'"
   ]
  },
  {
   "cell_type": "markdown",
   "metadata": {},
   "source": [
    "Now we've got a function that will grab the data, so we can again use 'apply' to apply it to all of our rows."
   ]
  },
  {
   "cell_type": "code",
   "execution_count": 28,
   "metadata": {
    "collapsed": false
   },
   "outputs": [],
   "source": [
    "counted['blockFIPS'] = counted['coordinates'].apply(fccblockfetch)"
   ]
  },
  {
   "cell_type": "markdown",
   "metadata": {},
   "source": [
    "Let's check our data out again."
   ]
  },
  {
   "cell_type": "code",
   "execution_count": 29,
   "metadata": {
    "collapsed": false
   },
   "outputs": [
    {
     "data": {
      "text/html": [
       "<div style=\"max-height:1000px;max-width:1500px;overflow:auto;\">\n",
       "<table border=\"1\" class=\"dataframe\">\n",
       "  <thead>\n",
       "    <tr style=\"text-align: right;\">\n",
       "      <th></th>\n",
       "      <th>uid</th>\n",
       "      <th>name</th>\n",
       "      <th>age</th>\n",
       "      <th>gender</th>\n",
       "      <th>raceethnicity</th>\n",
       "      <th>month</th>\n",
       "      <th>day</th>\n",
       "      <th>year</th>\n",
       "      <th>streetaddress</th>\n",
       "      <th>city</th>\n",
       "      <th>state</th>\n",
       "      <th>classification</th>\n",
       "      <th>lawenforcementagency</th>\n",
       "      <th>armed</th>\n",
       "      <th>fulladdress</th>\n",
       "      <th>coordinates</th>\n",
       "      <th>result</th>\n",
       "      <th>blockFIPS</th>\n",
       "    </tr>\n",
       "  </thead>\n",
       "  <tbody>\n",
       "    <tr>\n",
       "      <th>0</th>\n",
       "      <td> 2</td>\n",
       "      <td>   Matthew Ajibade</td>\n",
       "      <td> 22</td>\n",
       "      <td> Male</td>\n",
       "      <td>                  Black</td>\n",
       "      <td> January</td>\n",
       "      <td> 1</td>\n",
       "      <td> 2015</td>\n",
       "      <td> 1050 Carl Griffin Dr</td>\n",
       "      <td>  Savannah</td>\n",
       "      <td> GA</td>\n",
       "      <td>  Death in custody</td>\n",
       "      <td>    Chatham County Sheriff's Office</td>\n",
       "      <td>      No</td>\n",
       "      <td> 1050 Carl Griffin Dr, Savannah GA</td>\n",
       "      <td>    [32.066691, -81.167881]</td>\n",
       "      <td>         success</td>\n",
       "      <td> 130510105013018</td>\n",
       "    </tr>\n",
       "    <tr>\n",
       "      <th>1</th>\n",
       "      <td> 4</td>\n",
       "      <td>      Lewis Lembke</td>\n",
       "      <td> 47</td>\n",
       "      <td> Male</td>\n",
       "      <td>                  White</td>\n",
       "      <td> January</td>\n",
       "      <td> 2</td>\n",
       "      <td> 2015</td>\n",
       "      <td> 4505 SW Masters Loop</td>\n",
       "      <td>     Aloha</td>\n",
       "      <td> OR</td>\n",
       "      <td>           Gunshot</td>\n",
       "      <td> Washington County Sheriff's Office</td>\n",
       "      <td> Firearm</td>\n",
       "      <td>    4505 SW Masters Loop, Aloha OR</td>\n",
       "      <td> [45.4864514, -122.8912564]</td>\n",
       "      <td>         success</td>\n",
       "      <td> 410670317033016</td>\n",
       "    </tr>\n",
       "    <tr>\n",
       "      <th>2</th>\n",
       "      <td> 7</td>\n",
       "      <td>       Tim Elliott</td>\n",
       "      <td> 53</td>\n",
       "      <td> Male</td>\n",
       "      <td> Asian/Pacific Islander</td>\n",
       "      <td> January</td>\n",
       "      <td> 2</td>\n",
       "      <td> 2015</td>\n",
       "      <td> 600 E Island Lake Dr</td>\n",
       "      <td>   Shelton</td>\n",
       "      <td> WA</td>\n",
       "      <td>           Gunshot</td>\n",
       "      <td>      Mason County Sheriff's Office</td>\n",
       "      <td> Firearm</td>\n",
       "      <td>  600 E Island Lake Dr, Shelton WA</td>\n",
       "      <td>  [47.2465339, -123.119497]</td>\n",
       "      <td>         success</td>\n",
       "      <td> 530459606002032</td>\n",
       "    </tr>\n",
       "    <tr>\n",
       "      <th>3</th>\n",
       "      <td> 5</td>\n",
       "      <td> Michael Kocher Jr</td>\n",
       "      <td> 19</td>\n",
       "      <td> Male</td>\n",
       "      <td>                  White</td>\n",
       "      <td> January</td>\n",
       "      <td> 3</td>\n",
       "      <td> 2015</td>\n",
       "      <td>   2600 Kaumualii Hwy</td>\n",
       "      <td> Kaumakani</td>\n",
       "      <td> HI</td>\n",
       "      <td> Struck by vehicle</td>\n",
       "      <td>            Kauai Police Department</td>\n",
       "      <td>      No</td>\n",
       "      <td>  2600 Kaumualii Hwy, Kaumakani HI</td>\n",
       "      <td> [21.9332907, -159.6418879]</td>\n",
       "      <td> invalid address</td>\n",
       "      <td> 150070408001141</td>\n",
       "    </tr>\n",
       "    <tr>\n",
       "      <th>4</th>\n",
       "      <td> 6</td>\n",
       "      <td>     John Quintero</td>\n",
       "      <td> 23</td>\n",
       "      <td> Male</td>\n",
       "      <td>        Hispanic/Latino</td>\n",
       "      <td> January</td>\n",
       "      <td> 3</td>\n",
       "      <td> 2015</td>\n",
       "      <td> 500 North Oliver Ave</td>\n",
       "      <td>   Wichita</td>\n",
       "      <td> KS</td>\n",
       "      <td>           Gunshot</td>\n",
       "      <td>          Wichita Police Department</td>\n",
       "      <td>      No</td>\n",
       "      <td>  500 North Oliver Ave, Wichita KS</td>\n",
       "      <td>  [37.6938192, -97.2805298]</td>\n",
       "      <td>         success</td>\n",
       "      <td> 201730010004007</td>\n",
       "    </tr>\n",
       "  </tbody>\n",
       "</table>\n",
       "</div>"
      ],
      "text/plain": [
       "   uid               name age gender           raceethnicity    month  day  \\\n",
       "0    2    Matthew Ajibade  22   Male                   Black  January    1   \n",
       "1    4       Lewis Lembke  47   Male                   White  January    2   \n",
       "2    7        Tim Elliott  53   Male  Asian/Pacific Islander  January    2   \n",
       "3    5  Michael Kocher Jr  19   Male                   White  January    3   \n",
       "4    6      John Quintero  23   Male         Hispanic/Latino  January    3   \n",
       "\n",
       "   year         streetaddress       city state     classification  \\\n",
       "0  2015  1050 Carl Griffin Dr   Savannah    GA   Death in custody   \n",
       "1  2015  4505 SW Masters Loop      Aloha    OR            Gunshot   \n",
       "2  2015  600 E Island Lake Dr    Shelton    WA            Gunshot   \n",
       "3  2015    2600 Kaumualii Hwy  Kaumakani    HI  Struck by vehicle   \n",
       "4  2015  500 North Oliver Ave    Wichita    KS            Gunshot   \n",
       "\n",
       "                 lawenforcementagency    armed  \\\n",
       "0     Chatham County Sheriff's Office       No   \n",
       "1  Washington County Sheriff's Office  Firearm   \n",
       "2       Mason County Sheriff's Office  Firearm   \n",
       "3             Kauai Police Department       No   \n",
       "4           Wichita Police Department       No   \n",
       "\n",
       "                         fulladdress                 coordinates  \\\n",
       "0  1050 Carl Griffin Dr, Savannah GA     [32.066691, -81.167881]   \n",
       "1     4505 SW Masters Loop, Aloha OR  [45.4864514, -122.8912564]   \n",
       "2   600 E Island Lake Dr, Shelton WA   [47.2465339, -123.119497]   \n",
       "3   2600 Kaumualii Hwy, Kaumakani HI  [21.9332907, -159.6418879]   \n",
       "4   500 North Oliver Ave, Wichita KS   [37.6938192, -97.2805298]   \n",
       "\n",
       "            result        blockFIPS  \n",
       "0          success  130510105013018  \n",
       "1          success  410670317033016  \n",
       "2          success  530459606002032  \n",
       "3  invalid address  150070408001141  \n",
       "4          success  201730010004007  "
      ]
     },
     "execution_count": 29,
     "metadata": {},
     "output_type": "execute_result"
    }
   ],
   "source": [
    "counted.head()"
   ]
  },
  {
   "cell_type": "markdown",
   "metadata": {},
   "source": [
    "Once again, looks good.  Let's save again before moving on and getting our racial demographics."
   ]
  },
  {
   "cell_type": "code",
   "execution_count": 31,
   "metadata": {
    "collapsed": true
   },
   "outputs": [],
   "source": [
    "counted.to_csv('CSVs/police_homicide_gps_blockFIPS.csv')"
   ]
  },
  {
   "cell_type": "markdown",
   "metadata": {},
   "source": []
  }
 ],
 "metadata": {
  "kernelspec": {
   "display_name": "Python 3",
   "language": "python",
   "name": "python3"
  },
  "language_info": {
   "codemirror_mode": {
    "name": "ipython",
    "version": 3
   },
   "file_extension": ".py",
   "mimetype": "text/x-python",
   "name": "python",
   "nbconvert_exporter": "python",
   "pygments_lexer": "ipython3",
   "version": "3.4.1"
  }
 },
 "nbformat": 4,
 "nbformat_minor": 0
}
